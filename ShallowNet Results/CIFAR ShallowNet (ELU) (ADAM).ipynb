{
 "cells": [
  {
   "cell_type": "code",
   "execution_count": 1,
   "metadata": {},
   "outputs": [
    {
     "name": "stderr",
     "output_type": "stream",
     "text": [
      "Using TensorFlow backend.\n"
     ]
    }
   ],
   "source": [
    "#Importing Keras packages\n",
    "from __future__ import print_function\n",
    "import os\n",
    "import keras\n",
    "import tensorflow as tf\n",
    "from keras.models import Sequential\n",
    "from keras.layers import Dense, Dropout, Activation, Flatten, BatchNormalization\n",
    "from keras.layers import Conv2D, MaxPooling2D, ZeroPadding2D\n",
    "from keras.preprocessing.image import ImageDataGenerator\n",
    "from keras.utils import np_utils\n",
    "from keras.callbacks import ModelCheckpoint, EarlyStopping, ReduceLROnPlateau\n",
    "from keras.models import load_model\n",
    "from keras import optimizers\n",
    "from tensorflow.keras.preprocessing import image\n",
    "from keras.layers.advanced_activations import ELU, LeakyReLU, PReLU, Softmax, ReLU\n",
    "from keras.regularizers import l2\n",
    "from tensorflow.keras import initializers\n",
    "import pandas as pd\n",
    "import numpy as np"
   ]
  },
  {
   "cell_type": "code",
   "execution_count": 2,
   "metadata": {},
   "outputs": [
    {
     "name": "stdout",
     "output_type": "stream",
     "text": [
      "(50000, 1)\n",
      "(10000, 1)\n",
      "(50000, 32, 32, 3)\n",
      "(10000, 32, 32, 3)\n"
     ]
    },
    {
     "data": {
      "image/png": "[encoded data removed]",
      "text/plain": [
       "<Figure size 432x288 with 6 Axes>"
      ]
     },
     "metadata": {
      "needs_background": "light"
     },
     "output_type": "display_data"
    },
    {
     "name": "stdout",
     "output_type": "stream",
     "text": [
      "(50000, 32, 32, 3)\n",
      "(10000, 32, 32, 3)\n",
      "x_train shape: (50000, 32, 32, 3)\n",
      "50000 train samples\n",
      "10000 test samples\n"
     ]
    }
   ],
   "source": [
    "#Loading the CIFAR-10 dataset\n",
    "from tensorflow.keras.datasets import cifar10\n",
    "(x_train, y_train), (x_test, y_test) = cifar10.load_data()\n",
    "\n",
    "print(y_train.shape)\n",
    "print(y_test.shape)\n",
    "print(x_train.shape)\n",
    "print(x_test.shape)\n",
    "\n",
    "#Data Pre-processing and Inspection\n",
    "img_rows = x_train[0].shape[0]\n",
    "img_cols = x_train[1].shape[0]\n",
    "\n",
    "#Inspection\n",
    "import matplotlib.pyplot as plt\n",
    "\n",
    "#Plotting 6 images with color map set to grey since the images are greyscale\n",
    "plt.subplot(331)\n",
    "random_num = np.random.randint(0,len(x_train))\n",
    "plt.imshow(x_train[random_num], cmap = plt.get_cmap('gray'))\n",
    "\n",
    "plt.subplot(332)\n",
    "random_num = np.random.randint(0,len(x_train))\n",
    "plt.imshow(x_train[random_num], cmap = plt.get_cmap('gray'))\n",
    "\n",
    "plt.subplot(333)\n",
    "random_num = np.random.randint(0,len(x_train))\n",
    "plt.imshow(x_train[random_num], cmap = plt.get_cmap('gray'))\n",
    "\n",
    "plt.subplot(334)\n",
    "random_num = np.random.randint(0,len(x_train))\n",
    "plt.imshow(x_train[random_num], cmap = plt.get_cmap('gray'))\n",
    "\n",
    "plt.subplot(335)\n",
    "random_num = np.random.randint(0,len(x_train))\n",
    "plt.imshow(x_train[random_num], cmap = plt.get_cmap('gray'))\n",
    "\n",
    "plt.subplot(336)\n",
    "random_num = np.random.randint(0,len(x_train))\n",
    "plt.imshow(x_train[random_num], cmap = plt.get_cmap('gray'))\n",
    "plt.show()\n",
    "\n",
    "#Normalise the data by changing the range from (0 to 255) to (0 to 1)\n",
    "x_train =  x_train/255\n",
    "x_test = x_test/255\n",
    "print(x_train.shape)\n",
    "print(x_test.shape)\n",
    "\n",
    "#Change the image type to float32 data type\n",
    "x_train = x_train.astype('float32')\n",
    "x_test = x_test.astype('float32')\n",
    "\n",
    "print('x_train shape:', x_train.shape)\n",
    "print(x_train.shape[0], 'train samples')\n",
    "print(x_test.shape[0], 'test samples')"
   ]
  },
  {
   "cell_type": "code",
   "execution_count": 3,
   "metadata": {},
   "outputs": [
    {
     "name": "stdout",
     "output_type": "stream",
     "text": [
      "Number of Classes: 1\n",
      "Number of Pixels: 1024\n"
     ]
    },
    {
     "data": {
      "text/plain": [
       "array([6], dtype=uint8)"
      ]
     },
     "execution_count": 3,
     "metadata": {},
     "output_type": "execute_result"
    }
   ],
   "source": [
    "from tensorflow.keras.utils import to_categorical\n",
    "\n",
    "#One-hot encode the outputs\n",
    "y_cat_train = to_categorical(y_train,10)\n",
    "y_cat_test = to_categorical(y_test,10)\n",
    "\n",
    "print(\"Number of Classes: \" + str(y_test.shape[1]))\n",
    "\n",
    "num_classes = y_test.shape[1]\n",
    "num_pixels = x_train.shape[1] * x_train.shape[2]\n",
    "print(\"Number of Pixels: \" + str(num_pixels)) #32*32=1024\n",
    "\n",
    "y_train.shape\n",
    "y_train[0]"
   ]
  },
  {
   "cell_type": "code",
   "execution_count": 4,
   "metadata": {},
   "outputs": [],
   "source": [
    "#Setting up some of the hyperparameters\n",
    "batch_size = 64\n",
    "num_classes = 10\n",
    "epochs = 10\n",
    "input_shape = x_train.shape[1:]"
   ]
  },
  {
   "cell_type": "code",
   "execution_count": 5,
   "metadata": {},
   "outputs": [
    {
     "name": "stdout",
     "output_type": "stream",
     "text": [
      "Num GPUs Available:  1\n",
      "physical_devices------------- 1\n"
     ]
    }
   ],
   "source": [
    "#Ensuring the model is built on the existing GPU\n",
    "import tensorflow as tf\n",
    "print(\"Num GPUs Available: \", len(tf.config.experimental.list_physical_devices('GPU')))\n",
    "physical_devices = tf.config.experimental.list_physical_devices('GPU')\n",
    "print(\"physical_devices-------------\", len(physical_devices))\n",
    "tf.config.experimental.set_memory_growth(physical_devices[0], True)"
   ]
  },
  {
   "cell_type": "code",
   "execution_count": 6,
   "metadata": {},
   "outputs": [
    {
     "name": "stdout",
     "output_type": "stream",
     "text": [
      "Model: \"sequential_1\"\n",
      "_________________________________________________________________\n",
      "Layer (type)                 Output Shape              Param #   \n",
      "=================================================================\n",
      "conv2d_1 (Conv2D)            (None, 32, 32, 128)       3584      \n",
      "_________________________________________________________________\n",
      "batch_normalization_1 (Batch (None, 32, 32, 128)       512       \n",
      "_________________________________________________________________\n",
      "conv2d_2 (Conv2D)            (None, 32, 32, 128)       147584    \n",
      "_________________________________________________________________\n",
      "batch_normalization_2 (Batch (None, 32, 32, 128)       512       \n",
      "_________________________________________________________________\n",
      "max_pooling2d_1 (MaxPooling2 (None, 8, 8, 128)         0         \n",
      "_________________________________________________________________\n",
      "dropout_1 (Dropout)          (None, 8, 8, 128)         0         \n",
      "_________________________________________________________________\n",
      "conv2d_3 (Conv2D)            (None, 8, 8, 256)         295168    \n",
      "_________________________________________________________________\n",
      "batch_normalization_3 (Batch (None, 8, 8, 256)         1024      \n",
      "_________________________________________________________________\n",
      "conv2d_4 (Conv2D)            (None, 8, 8, 256)         590080    \n",
      "_________________________________________________________________\n",
      "batch_normalization_4 (Batch (None, 8, 8, 256)         1024      \n",
      "_________________________________________________________________\n",
      "max_pooling2d_2 (MaxPooling2 (None, 2, 2, 256)         0         \n",
      "_________________________________________________________________\n",
      "dropout_2 (Dropout)          (None, 2, 2, 256)         0         \n",
      "_________________________________________________________________\n",
      "flatten_1 (Flatten)          (None, 1024)              0         \n",
      "_________________________________________________________________\n",
      "dense_1 (Dense)              (None, 512)               524800    \n",
      "_________________________________________________________________\n",
      "batch_normalization_5 (Batch (None, 512)               2048      \n",
      "_________________________________________________________________\n",
      "dropout_3 (Dropout)          (None, 512)               0         \n",
      "_________________________________________________________________\n",
      "dense_2 (Dense)              (None, 10)                5130      \n",
      "_________________________________________________________________\n",
      "activation_1 (Activation)    (None, 10)                0         \n",
      "=================================================================\n",
      "Total params: 1,571,466\n",
      "Trainable params: 1,568,906\n",
      "Non-trainable params: 2,560\n",
      "_________________________________________________________________\n",
      "None\n"
     ]
    }
   ],
   "source": [
    "#Initiating ShallowNet for training\n",
    "model = Sequential()\n",
    "\n",
    "#1st Layer\n",
    "model.add(Conv2D(128, (3, 3), padding = 'same', input_shape = input_shape, activation = 'elu', kernel_regularizer = l2(0.0005), \n",
    "                 kernel_initializer = \"he_normal\"))\n",
    "model.add(BatchNormalization())\n",
    "\n",
    "#2nd Layer\n",
    "model.add(Conv2D(128, (3, 3), padding = 'same', input_shape = input_shape, activation = 'elu', kernel_regularizer = l2(0.0005), \n",
    "                 kernel_initializer = \"he_normal\"))\n",
    "model.add(BatchNormalization())\n",
    "\n",
    "#Pooling with Dropout\n",
    "model.add(MaxPooling2D(pool_size = (4, 4)))\n",
    "model.add(Dropout(0.25))\n",
    "\n",
    "#3rd Layer\n",
    "model.add(Conv2D(256, (3, 3), padding = 'same', input_shape = input_shape, activation = 'elu', kernel_regularizer = l2(0.0005), \n",
    "                 kernel_initializer = \"he_normal\"))\n",
    "model.add(BatchNormalization())\n",
    "\n",
    "#4th Layer\n",
    "model.add(Conv2D(256, (3, 3), padding = 'same', input_shape = input_shape, activation = 'elu', kernel_regularizer = l2(0.0005), \n",
    "                 kernel_initializer = \"he_normal\"))\n",
    "model.add(BatchNormalization())\n",
    "\n",
    "#Pooling with Dropout\n",
    "model.add(MaxPooling2D(pool_size = (4, 4)))\n",
    "model.add(Dropout(0.25))\n",
    "\n",
    "#5th Layer = 1st Fully Connected or Dense Layer\n",
    "model.add(Flatten())\n",
    "model.add(Dense(512, activation = 'elu', kernel_regularizer = l2(0.0005), kernel_initializer = \"he_normal\"))\n",
    "model.add(BatchNormalization())\n",
    "model.add(Dropout(0.35))\n",
    "\n",
    "#6th Layer = Final Layer\n",
    "model.add(Dense(10, kernel_regularizer = l2(0.0005), kernel_initializer = \"he_normal\"))\n",
    "model.add(Activation('softmax'))\n",
    "\n",
    "print(model.summary())"
   ]
  },
  {
   "cell_type": "code",
   "execution_count": 7,
   "metadata": {},
   "outputs": [
    {
     "name": "stdout",
     "output_type": "stream",
     "text": [
      "Train on 50000 samples, validate on 10000 samples\n",
      "Epoch 1/10\n",
      "50000/50000 [==============================] - 24s 478us/step - loss: 2.5994 - accuracy: 0.5199 - val_loss: 1.9646 - val_accuracy: 0.6584\n",
      "Epoch 2/10\n",
      "50000/50000 [==============================] - 21s 427us/step - loss: 1.7477 - accuracy: 0.6791 - val_loss: 1.6182 - val_accuracy: 0.6815\n",
      "Epoch 3/10\n",
      "50000/50000 [==============================] - 21s 427us/step - loss: 1.4078 - accuracy: 0.7264 - val_loss: 1.4810 - val_accuracy: 0.6897\n",
      "Epoch 4/10\n",
      "50000/50000 [==============================] - 22s 436us/step - loss: 1.2803 - accuracy: 0.7483 - val_loss: 1.3170 - val_accuracy: 0.7370\n",
      "Epoch 5/10\n",
      "50000/50000 [==============================] - 21s 430us/step - loss: 1.2430 - accuracy: 0.7650 - val_loss: 1.3356 - val_accuracy: 0.7284\n",
      "Epoch 6/10\n",
      "50000/50000 [==============================] - 22s 431us/step - loss: 1.2253 - accuracy: 0.7747 - val_loss: 1.3111 - val_accuracy: 0.7450\n",
      "Epoch 7/10\n",
      "50000/50000 [==============================] - 21s 427us/step - loss: 1.2094 - accuracy: 0.7825 - val_loss: 1.2626 - val_accuracy: 0.7701\n",
      "Epoch 8/10\n",
      "50000/50000 [==============================] - 21s 425us/step - loss: 1.1919 - accuracy: 0.7894 - val_loss: 1.3206 - val_accuracy: 0.7476\n",
      "Epoch 9/10\n",
      "50000/50000 [==============================] - 21s 428us/step - loss: 1.1697 - accuracy: 0.7972 - val_loss: 1.3081 - val_accuracy: 0.7436\n",
      "Epoch 10/10\n",
      "50000/50000 [==============================] - 22s 431us/step - loss: 1.1560 - accuracy: 0.8016 - val_loss: 1.3624 - val_accuracy: 0.7271\n",
      "10000/10000 [==============================] - 2s 157us/step\n",
      "Test loss: 1.3624050931930543\n",
      "Test accuracy: 0.7271000146865845\n"
     ]
    }
   ],
   "source": [
    "#Model testing and reporting\n",
    "opt = keras.optimizers.Adam(lr = 0.001)\n",
    "\n",
    "model.compile(loss = 'categorical_crossentropy',\n",
    "              optimizer = opt,\n",
    "              metrics = ['accuracy'])\n",
    "\n",
    "history = model.fit(x_train, y_cat_train, batch_size = batch_size, \n",
    "                    epochs = epochs, validation_data = (x_test, y_cat_test), shuffle = True)\n",
    "\n",
    "#Saving model weights\n",
    "model.save(\"C:\\\\Users\\\\Admin\\\\Desktop\\\\Research\\\\Results\\\\ShallowNet Results\\\\Weights\\\\CIFAR_ShallowNet_Weights_ELU_Adam.h5\")\n",
    "\n",
    "#Evaluate the performance of the trained model\n",
    "scores = model.evaluate(x_test, y_cat_test, verbose = 1)\n",
    "print('Test loss:', scores[0])\n",
    "print('Test accuracy:', scores[1])"
   ]
  },
  {
   "cell_type": "code",
   "execution_count": 8,
   "metadata": {},
   "outputs": [
    {
     "data": {
      "image/png": "[encoded data removed]",
      "text/plain": [
       "<Figure size 432x288 with 1 Axes>"
      ]
     },
     "metadata": {
      "needs_background": "light"
     },
     "output_type": "display_data"
    }
   ],
   "source": [
    "#Evaluating training and test error\n",
    "history_dict = history.history\n",
    "loss_values = history_dict['loss']\n",
    "val_loss_values = history_dict['val_loss']\n",
    "epochs = range(1, len(loss_values) + 1)\n",
    "line1 = plt.plot(epochs, val_loss_values, label = 'Validation/Test Loss')\n",
    "line2 = plt.plot(epochs, loss_values, label = 'Training Loss')\n",
    "plt.setp(line1, linewidth = 2.0, marker = '+', markersize = 10.0)\n",
    "plt.setp(line2, linewidth = 2.0, marker = '4', markersize = 10.0)\n",
    "plt.xlabel('Epochs') \n",
    "plt.ylabel('Loss')\n",
    "plt.grid(True)\n",
    "plt.legend()\n",
    "plt.show()"
   ]
  },
  {
   "cell_type": "code",
   "execution_count": 9,
   "metadata": {},
   "outputs": [
    {
     "name": "stdout",
     "output_type": "stream",
     "text": [
      "['loss', 'accuracy']\n",
      "[1.3624050931930543, 0.7271000146865845]\n"
     ]
    }
   ],
   "source": [
    "#Classification report\n",
    "model.metrics_names\n",
    "print(model.metrics_names)\n",
    "print(model.evaluate(x_test,y_cat_test,verbose = 0))\n",
    "\n",
    "from sklearn.metrics import classification_report,confusion_matrix\n",
    "\n",
    "predictions = model.predict_classes(x_test)"
   ]
  },
  {
   "cell_type": "code",
   "execution_count": 10,
   "metadata": {},
   "outputs": [
    {
     "name": "stdout",
     "output_type": "stream",
     "text": [
      "              precision    recall  f1-score   support\n",
      "\n",
      "           0       0.88      0.63      0.74      1000\n",
      "           1       0.92      0.81      0.86      1000\n",
      "           2       0.71      0.66      0.69      1000\n",
      "           3       0.43      0.74      0.54      1000\n",
      "           4       0.84      0.59      0.69      1000\n",
      "           5       0.52      0.78      0.62      1000\n",
      "           6       0.83      0.81      0.82      1000\n",
      "           7       0.92      0.59      0.72      1000\n",
      "           8       0.93      0.79      0.85      1000\n",
      "           9       0.81      0.87      0.84      1000\n",
      "\n",
      "    accuracy                           0.73     10000\n",
      "   macro avg       0.78      0.73      0.74     10000\n",
      "weighted avg       0.78      0.73      0.74     10000\n",
      "\n"
     ]
    }
   ],
   "source": [
    "print(classification_report(y_test,predictions))"
   ]
  },
  {
   "cell_type": "code",
   "execution_count": null,
   "metadata": {},
   "outputs": [],
   "source": [
    "#Testing model predictions\n",
    "import cv2\n",
    "import numpy as np\n",
    "from keras.models import load_model\n",
    "\n",
    "img_row, img_height, img_depth = 32,32,3\n",
    "classifier = load_model('C:\\\\Users\\\\Admin\\\\Desktop\\\\Research\\\\Results\\\\ShallowNet Results\\\\Weights\\\\CIFAR_ShallowNet_Weights_ELU_Adam.h5')\n",
    "color = True \n",
    "scale = 8\n",
    "\n",
    "def draw_test(name, res, input_im, scale, img_row, img_height):\n",
    "    BLACK = [0,0,0]\n",
    "    res = int(res)\n",
    "    if res == 0:\n",
    "        pred = \"airplane\"\n",
    "    if res == 1:\n",
    "        pred = \"automobile\"\n",
    "    if res == 2:\n",
    "        pred = \"bird\"\n",
    "    if res == 3:\n",
    "        pred = \"cat\"\n",
    "    if res == 4:\n",
    "        pred = \"deer\"\n",
    "    if res == 5:\n",
    "        pred = \"dog\"\n",
    "    if res == 6:\n",
    "        pred = \"frog\"\n",
    "    if res == 7:\n",
    "        pred = \"horse\"\n",
    "    if res == 8:\n",
    "        pred = \"ship\"\n",
    "    if res == 9:\n",
    "        pred = \"truck\"\n",
    "        \n",
    "    expanded_image = cv2.copyMakeBorder(input_im, 0, 0, 0, imageL.shape[0]*2 ,cv2.BORDER_CONSTANT,value = BLACK)\n",
    "    if color == False:\n",
    "        expanded_image = cv2.cvtColor(expanded_image, cv2.COLOR_GRAY2BGR)\n",
    "    cv2.putText(expanded_image, str(pred), (300, 80) , cv2.FONT_HERSHEY_COMPLEX_SMALL,4, (0,255,0), 2)\n",
    "    cv2.imshow(name, expanded_image)\n",
    "\n",
    "\n",
    "for i in range(0,10):\n",
    "    rand = np.random.randint(0,len(x_test))\n",
    "    input_im = x_test[rand]\n",
    "    imageL = cv2.resize(input_im, None, fx = scale, fy = scale, interpolation = cv2.INTER_CUBIC) \n",
    "    input_im = input_im.reshape(1,img_row, img_height, img_depth) \n",
    "    \n",
    "    ## Get Prediction\n",
    "    res = str(classifier.predict_classes(input_im, 1, verbose = 0)[0])\n",
    "              \n",
    "    draw_test(\"Prediction\", res, imageL, scale, img_row, img_height) \n",
    "    cv2.waitKey(0)\n",
    "\n",
    "cv2.destroyAllWindows()"
   ]
  },
  {
   "cell_type": "code",
   "execution_count": 11,
   "metadata": {},
   "outputs": [
    {
     "data": {
      "text/plain": [
       "<matplotlib.image.AxesImage at 0x23aebe4ce08>"
      ]
     },
     "execution_count": 11,
     "metadata": {},
     "output_type": "execute_result"
    },
    {
     "data": {
      "image/png": "[encoded data removed]",
      "text/plain": [
       "<Figure size 432x288 with 1 Axes>"
      ]
     },
     "metadata": {
      "needs_background": "light"
     },
     "output_type": "display_data"
    }
   ],
   "source": [
    "import matplotlib.pyplot as plt\n",
    "my_image = x_test[17]\n",
    "plt.imshow(my_image) #5 = Dog, #7 = Horse"
   ]
  },
  {
   "cell_type": "code",
   "execution_count": 12,
   "metadata": {},
   "outputs": [
    {
     "data": {
      "text/plain": [
       "array([5], dtype=int64)"
      ]
     },
     "execution_count": 12,
     "metadata": {},
     "output_type": "execute_result"
    }
   ],
   "source": [
    "model.predict_classes(my_image.reshape(1,32,32,3))"
   ]
  },
  {
   "cell_type": "code",
   "execution_count": 13,
   "metadata": {},
   "outputs": [],
   "source": [
    "#Label mapping\n",
    "labels = '''airplane\n",
    "automobile\n",
    "bird\n",
    "cat\n",
    "deer\n",
    "dog\n",
    "frog\n",
    "horse\n",
    "ship\n",
    "truck'''.split()"
   ]
  },
  {
   "cell_type": "code",
   "execution_count": 14,
   "metadata": {},
   "outputs": [
    {
     "data": {
      "image/png": "[encoded data removed]",
      "text/plain": [
       "<Figure size 432x288 with 1 Axes>"
      ]
     },
     "metadata": {
      "needs_background": "light"
     },
     "output_type": "display_data"
    }
   ],
   "source": [
    "p_test = model.predict(x_test).argmax(axis=1)\n",
    "y_test.flatten()\n",
    "misclassified_idx = np.where(p_test != y_test)[0]\n",
    "i = np.random.choice(misclassified_idx)\n",
    "plt.imshow(x_test[i], cmap='gray')\n",
    "plt.title(\"True label: %s Predicted: %s\" % (y_test[i], labels[p_test[i]]));"
   ]
  }
 ],
 "metadata": {
  "kernelspec": {
   "display_name": "Python 3",
   "language": "python",
   "name": "python3"
  },
  "language_info": {
   "codemirror_mode": {
    "name": "ipython",
    "version": 3
   },
   "file_extension": ".py",
   "mimetype": "text/x-python",
   "name": "python",
   "nbconvert_exporter": "python",
   "pygments_lexer": "ipython3",
   "version": "3.7.4"
  }
 },
 "nbformat": 4,
 "nbformat_minor": 4
}
