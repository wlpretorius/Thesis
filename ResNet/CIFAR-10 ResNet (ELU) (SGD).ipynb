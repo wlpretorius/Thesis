{
 "cells": [
  {
   "cell_type": "code",
   "execution_count": 1,
   "metadata": {},
   "outputs": [
    {
     "name": "stderr",
     "output_type": "stream",
     "text": [
      "Using TensorFlow backend.\n"
     ]
    }
   ],
   "source": [
    "#importing other required libraries\n",
    "import numpy as np\n",
    "import pandas as pd\n",
    "from sklearn.utils.multiclass import unique_labels\n",
    "import matplotlib.pyplot as plt\n",
    "import matplotlib.image as mpimg\n",
    "import seaborn as sns\n",
    "import itertools\n",
    "from sklearn.model_selection import train_test_split\n",
    "from sklearn.metrics import confusion_matrix\n",
    "from keras import Sequential\n",
    "from keras.applications import VGG19, VGG16, ResNet50\n",
    "from keras.preprocessing.image import ImageDataGenerator\n",
    "from keras.optimizers import SGD,Adam\n",
    "from keras.callbacks import ReduceLROnPlateau\n",
    "from keras.layers import Flatten, Dense, BatchNormalization, Activation,Dropout\n",
    "from keras.utils import to_categorical\n",
    "import tensorflow as tf\n",
    "import random"
   ]
  },
  {
   "cell_type": "code",
   "execution_count": 2,
   "metadata": {},
   "outputs": [
    {
     "name": "stdout",
     "output_type": "stream",
     "text": [
      "Num GPUs Available:  1\n",
      "physical_devices------------- 1\n"
     ]
    }
   ],
   "source": [
    "#Ensuring the model is built on the existing GPU\n",
    "import tensorflow as tf\n",
    "print(\"Num GPUs Available: \", len(tf.config.experimental.list_physical_devices('GPU')))\n",
    "physical_devices = tf.config.experimental.list_physical_devices('GPU')\n",
    "print(\"physical_devices-------------\", len(physical_devices))\n",
    "tf.config.experimental.set_memory_growth(physical_devices[0], True)"
   ]
  },
  {
   "cell_type": "code",
   "execution_count": 3,
   "metadata": {},
   "outputs": [],
   "source": [
    "#Keras library for CIFAR dataset\n",
    "from keras.datasets import cifar10\n",
    "(x_train, y_train),(x_test, y_test) = cifar10.load_data()"
   ]
  },
  {
   "cell_type": "code",
   "execution_count": 4,
   "metadata": {},
   "outputs": [],
   "source": [
    "#Train-validation-test split\n",
    "x_train,x_val,y_train,y_val = train_test_split(x_train,y_train,test_size = 0.3)"
   ]
  },
  {
   "cell_type": "code",
   "execution_count": 5,
   "metadata": {},
   "outputs": [
    {
     "name": "stdout",
     "output_type": "stream",
     "text": [
      "((35000, 32, 32, 3), (35000, 1))\n",
      "((15000, 32, 32, 3), (15000, 1))\n",
      "((10000, 32, 32, 3), (10000, 1))\n",
      "((35000, 32, 32, 3), (35000, 10))\n",
      "((15000, 32, 32, 3), (15000, 10))\n",
      "((10000, 32, 32, 3), (10000, 10))\n"
     ]
    }
   ],
   "source": [
    "print((x_train.shape,y_train.shape))\n",
    "print((x_val.shape,y_val.shape))\n",
    "print((x_test.shape,y_test.shape))\n",
    "y_train = to_categorical(y_train)\n",
    "y_val = to_categorical(y_val)\n",
    "y_test = to_categorical(y_test)\n",
    "\n",
    "#Verifying the dimension after one-hot encoding\n",
    "print((x_train.shape,y_train.shape))\n",
    "print((x_val.shape,y_val.shape))\n",
    "print((x_test.shape,y_test.shape))"
   ]
  },
  {
   "cell_type": "code",
   "execution_count": 6,
   "metadata": {},
   "outputs": [],
   "source": [
    "#Image Data Augmentation\n",
    "train_generator = ImageDataGenerator(rotation_range = 2, horizontal_flip = True, zoom_range = 0.1 )\n",
    "\n",
    "val_generator = ImageDataGenerator(rotation_range = 2, horizontal_flip = True, zoom_range = 0.1)\n",
    "\n",
    "test_generator = ImageDataGenerator(rotation_range = 2,  horizontal_flip = True, zoom_range = 0.1)\n",
    "\n",
    "#Fitting the augmentation defined above to the data\n",
    "train_generator.fit(x_train)\n",
    "val_generator.fit(x_val)\n",
    "test_generator.fit(x_test)"
   ]
  },
  {
   "cell_type": "code",
   "execution_count": 7,
   "metadata": {},
   "outputs": [],
   "source": [
    "#Learning Rate Annealer\n",
    "lrr = ReduceLROnPlateau(monitor = 'val_loss', factor = 0.01,  patience = 3, min_lr = 1e-5)"
   ]
  },
  {
   "cell_type": "code",
   "execution_count": 8,
   "metadata": {},
   "outputs": [],
   "source": [
    "#Defining the hyperparameters\n",
    "import keras\n",
    "batch_size = 64\n",
    "epochs = 10\n",
    "learn_rate = 0.001\n",
    "opt = keras.optimizers.SGD(lr = 0.001, momentum = 0.9)"
   ]
  },
  {
   "cell_type": "code",
   "execution_count": 9,
   "metadata": {},
   "outputs": [
    {
     "name": "stderr",
     "output_type": "stream",
     "text": [
      "C:\\Users\\Admin\\Anaconda3\\lib\\site-packages\\keras_applications\\resnet50.py:265: UserWarning: The output shape of `ResNet50(include_top=False)` has been changed since Keras 2.2.0.\n",
      "  warnings.warn('The output shape of `ResNet50(include_top=False)` '\n"
     ]
    }
   ],
   "source": [
    "#Initialising ResNet\n",
    "base_model_resnet = ResNet50(include_top = False, weights = 'imagenet', input_shape = (32,32,3), classes = y_train.shape[1])"
   ]
  },
  {
   "cell_type": "code",
   "execution_count": 10,
   "metadata": {},
   "outputs": [
    {
     "name": "stdout",
     "output_type": "stream",
     "text": [
      "Model: \"sequential_1\"\n",
      "_________________________________________________________________\n",
      "Layer (type)                 Output Shape              Param #   \n",
      "=================================================================\n",
      "resnet50 (Model)             (None, 1, 1, 2048)        23587712  \n",
      "_________________________________________________________________\n",
      "flatten_1 (Flatten)          (None, 2048)              0         \n",
      "_________________________________________________________________\n",
      "dense_1 (Dense)              (None, 512)               1049088   \n",
      "_________________________________________________________________\n",
      "dense_2 (Dense)              (None, 10)                5130      \n",
      "=================================================================\n",
      "Total params: 24,641,930\n",
      "Trainable params: 24,588,810\n",
      "Non-trainable params: 53,120\n",
      "_________________________________________________________________\n"
     ]
    }
   ],
   "source": [
    "#Adding layers to the ResNet\n",
    "model_resnet = Sequential()\n",
    "#Add the Dense layers along with activation and batch normalization\n",
    "model_resnet.add(base_model_resnet)\n",
    "model_resnet.add(Flatten())\n",
    "#Add the Dense layers along with activation and batch normalization\n",
    "model_resnet.add(Dense(512, activation = ('elu'), input_dim = 512))\n",
    "model_resnet.add(Dense(10, activation = ('softmax')))\n",
    "\n",
    "#Summary of ResNet Model\n",
    "model_resnet.summary()"
   ]
  },
  {
   "cell_type": "code",
   "execution_count": 11,
   "metadata": {},
   "outputs": [],
   "source": [
    "#Compiling ResNet\n",
    "model_resnet.compile(optimizer = opt, loss = 'categorical_crossentropy', metrics = ['accuracy'])"
   ]
  },
  {
   "cell_type": "code",
   "execution_count": 12,
   "metadata": {},
   "outputs": [
    {
     "name": "stdout",
     "output_type": "stream",
     "text": [
      "Epoch 1/10\n",
      "546/546 [==============================] - 52s 95ms/step - loss: 1.3934 - accuracy: 0.5374 - val_loss: 0.9385 - val_accuracy: 0.6564\n",
      "Epoch 2/10\n",
      "546/546 [==============================] - 41s 75ms/step - loss: 0.8362 - accuracy: 0.7121 - val_loss: 0.7775 - val_accuracy: 0.7066\n",
      "Epoch 3/10\n",
      "546/546 [==============================] - 41s 75ms/step - loss: 0.6738 - accuracy: 0.7663 - val_loss: 0.8080 - val_accuracy: 0.7379\n",
      "Epoch 4/10\n",
      "546/546 [==============================] - 40s 74ms/step - loss: 0.5513 - accuracy: 0.8066 - val_loss: 0.8034 - val_accuracy: 0.7489\n",
      "Epoch 5/10\n",
      "546/546 [==============================] - 40s 74ms/step - loss: 0.4724 - accuracy: 0.8343 - val_loss: 0.9289 - val_accuracy: 0.7280\n",
      "Epoch 6/10\n",
      "546/546 [==============================] - 41s 75ms/step - loss: 0.4021 - accuracy: 0.8603 - val_loss: 0.5722 - val_accuracy: 0.7802\n",
      "Epoch 7/10\n",
      "546/546 [==============================] - 41s 75ms/step - loss: 0.3907 - accuracy: 0.8672 - val_loss: 0.5410 - val_accuracy: 0.7800\n",
      "Epoch 8/10\n",
      "546/546 [==============================] - 40s 73ms/step - loss: 0.3826 - accuracy: 0.8681 - val_loss: 0.6744 - val_accuracy: 0.7855\n",
      "Epoch 9/10\n",
      "546/546 [==============================] - 41s 74ms/step - loss: 0.3721 - accuracy: 0.8731 - val_loss: 0.5916 - val_accuracy: 0.7782\n",
      "Epoch 10/10\n",
      "546/546 [==============================] - 41s 75ms/step - loss: 0.3690 - accuracy: 0.8738 - val_loss: 0.3348 - val_accuracy: 0.7882\n"
     ]
    },
    {
     "data": {
      "text/plain": [
       "<keras.callbacks.callbacks.History at 0x15130a79608>"
      ]
     },
     "execution_count": 12,
     "metadata": {},
     "output_type": "execute_result"
    }
   ],
   "source": [
    "#Model testing and reporting\n",
    "model_resnet.fit_generator(train_generator.flow(x_train, y_train, batch_size = batch_size),\n",
    "                           epochs = epochs, steps_per_epoch = x_train.shape[0]//batch_size,\n",
    "                           validation_data = val_generator.flow(x_val, y_val, batch_size = batch_size),\n",
    "                           validation_steps = 250, callbacks = [lrr], verbose = 1)"
   ]
  },
  {
   "cell_type": "code",
   "execution_count": 13,
   "metadata": {},
   "outputs": [
    {
     "data": {
      "text/plain": [
       "0.7841"
      ]
     },
     "execution_count": 13,
     "metadata": {},
     "output_type": "execute_result"
    }
   ],
   "source": [
    "#Classification report\n",
    "y_pred3 = model_resnet.predict_classes(x_test)\n",
    "y_true = np.argmax(y_test, axis = 1)\n",
    "from sklearn.metrics import accuracy_score\n",
    "accuracy_score(y_true, y_pred3)"
   ]
  },
  {
   "cell_type": "code",
   "execution_count": 14,
   "metadata": {},
   "outputs": [
    {
     "name": "stdout",
     "output_type": "stream",
     "text": [
      "10000/10000 [==============================] - 5s 484us/step\n",
      "Test loss: 0.6580724452018738\n",
      "Test accuracy: 0.7840999960899353\n"
     ]
    }
   ],
   "source": [
    "#Evaluate the performance of the trained model\n",
    "scores = model_resnet.evaluate(x_test, y_test, verbose = 1)\n",
    "print('Test loss:', scores[0])\n",
    "print('Test accuracy:', scores[1])"
   ]
  },
  {
   "cell_type": "code",
   "execution_count": 15,
   "metadata": {},
   "outputs": [
    {
     "data": {
      "image/png": "[encoded data removed]",
      "text/plain": [
       "<Figure size 432x288 with 1 Axes>"
      ]
     },
     "metadata": {
      "needs_background": "light"
     },
     "output_type": "display_data"
    }
   ],
   "source": [
    "#Evaluating training and test error\n",
    "history_dict = model_resnet.history.history\n",
    "loss_values = history_dict['loss']\n",
    "val_loss_values = history_dict['val_loss']\n",
    "epochs = range(1, len(loss_values) + 1)\n",
    "line1 = plt.plot(epochs, val_loss_values, label = 'Validation/Test Loss')\n",
    "line2 = plt.plot(epochs, loss_values, label = 'Training Loss')\n",
    "plt.setp(line1, linewidth = 2.0, marker = '+', markersize = 10.0)\n",
    "plt.setp(line2, linewidth = 2.0, marker = '4', markersize = 10.0)\n",
    "plt.xlabel('Epochs') \n",
    "plt.ylabel('Loss')\n",
    "plt.grid(True)\n",
    "plt.legend()\n",
    "plt.show()"
   ]
  }
 ],
 "metadata": {
  "kernelspec": {
   "display_name": "Python 3",
   "language": "python",
   "name": "python3"
  },
  "language_info": {
   "codemirror_mode": {
    "name": "ipython",
    "version": 3
   },
   "file_extension": ".py",
   "mimetype": "text/x-python",
   "name": "python",
   "nbconvert_exporter": "python",
   "pygments_lexer": "ipython3",
   "version": "3.7.4"
  }
 },
 "nbformat": 4,
 "nbformat_minor": 4
}
